{
  "nbformat": 4,
  "nbformat_minor": 0,
  "metadata": {
    "colab": {
      "name": "DNN.ipynb",
      "provenance": [],
      "collapsed_sections": [],
      "include_colab_link": true
    },
    "kernelspec": {
      "name": "python3",
      "display_name": "Python 3"
    },
    "accelerator": "GPU"
  },
  "cells": [
    {
      "cell_type": "markdown",
      "metadata": {
        "id": "view-in-github",
        "colab_type": "text"
      },
      "source": [
        "<a href=\"https://colab.research.google.com/github/amar-naik/EAP/blob/master/DNN.ipynb\" target=\"_parent\"><img src=\"https://colab.research.google.com/assets/colab-badge.svg\" alt=\"Open In Colab\"/></a>"
      ]
    },
    {
      "cell_type": "markdown",
      "metadata": {
        "id": "aNyZv-Ec52ot",
        "colab_type": "text"
      },
      "source": [
        "# **Import Libraries and modules**\n",
        "\n",
        "Sample Referred : https://elitedatascience.com/keras-tutorial-deep-learning-in-python"
      ]
    },
    {
      "cell_type": "code",
      "metadata": {
        "id": "3m3w1Cw49Zkt",
        "colab_type": "code",
        "colab": {}
      },
      "source": [
        "# https://keras.io/\n",
        "!pip install -q keras\n",
        "import keras"
      ],
      "execution_count": 0,
      "outputs": []
    },
    {
      "cell_type": "code",
      "metadata": {
        "id": "Eso6UHE080D4",
        "colab_type": "code",
        "colab": {}
      },
      "source": [
        "import numpy as np\n",
        "\n",
        "from keras.models import Sequential\n",
        "from keras.layers import Dense, Dropout, Activation, Flatten, Add\n",
        "from keras.layers import Convolution2D, MaxPooling2D\n",
        "from keras.utils import np_utils\n",
        "\n",
        "from keras.datasets import mnist"
      ],
      "execution_count": 0,
      "outputs": []
    },
    {
      "cell_type": "markdown",
      "metadata": {
        "id": "zByEi95J86RD",
        "colab_type": "text"
      },
      "source": [
        "### Load pre-shuffled MNIST data into train and test sets"
      ]
    },
    {
      "cell_type": "code",
      "metadata": {
        "id": "7eRM0QWN83PV",
        "colab_type": "code",
        "colab": {}
      },
      "source": [
        "(X_train, y_train), (X_test, y_test) = mnist.load_data()"
      ],
      "execution_count": 0,
      "outputs": []
    },
    {
      "cell_type": "code",
      "metadata": {
        "id": "4a4Be72j8-ZC",
        "colab_type": "code",
        "outputId": "d8ca6ca5-f228-43f7-aa70-d7cab2d1ace7",
        "colab": {
          "base_uri": "https://localhost:8080/",
          "height": 301
        }
      },
      "source": [
        "print (X_train.shape)\n",
        "from matplotlib import pyplot as plt\n",
        "%matplotlib inline\n",
        "plt.imshow(X_train[0])"
      ],
      "execution_count": 0,
      "outputs": [
        {
          "output_type": "stream",
          "text": [
            "(60000, 28, 28)\n"
          ],
          "name": "stdout"
        },
        {
          "output_type": "execute_result",
          "data": {
            "text/plain": [
              "<matplotlib.image.AxesImage at 0x7f43f68de630>"
            ]
          },
          "metadata": {
            "tags": []
          },
          "execution_count": 81
        },
        {
          "output_type": "display_data",
          "data": {
            "image/png": "[encoded data removed]",
            "text/plain": [
              "<Figure size 432x288 with 1 Axes>"
            ]
          },
          "metadata": {
            "tags": []
          }
        }
      ]
    },
    {
      "cell_type": "markdown",
      "metadata": {
        "id": "LOFkU5nPiNUB",
        "colab_type": "text"
      },
      "source": [
        "We have 60,000 samples in our training set, and the images are 28 pixels x 28 pixels each"
      ]
    },
    {
      "cell_type": "code",
      "metadata": {
        "id": "dkmprriw9AnZ",
        "colab_type": "code",
        "colab": {}
      },
      "source": [
        "X_train = X_train.reshape(X_train.shape[0], 28, 28,1)\n",
        "X_test = X_test.reshape(X_test.shape[0], 28, 28,1)"
      ],
      "execution_count": 0,
      "outputs": []
    },
    {
      "cell_type": "markdown",
      "metadata": {
        "id": "f-nejGdZhgbk",
        "colab_type": "text"
      },
      "source": [
        "the division by 255, this is the maximum value of a byte (the input feature's type before the conversion to float32), so this will ensure that the input features are scaled between 0.0 and 1.0"
      ]
    },
    {
      "cell_type": "code",
      "metadata": {
        "id": "X2m4YS4E9CRh",
        "colab_type": "code",
        "colab": {}
      },
      "source": [
        "X_train = X_train.astype('float32')\n",
        "X_test = X_test.astype('float32')\n",
        "X_train /= 255\n",
        "X_test /= 255"
      ],
      "execution_count": 0,
      "outputs": []
    },
    {
      "cell_type": "code",
      "metadata": {
        "id": "0Mn0vAYD9DvB",
        "colab_type": "code",
        "outputId": "24995abc-1bf3-4f0d-aa55-839fbde34b76",
        "colab": {
          "base_uri": "https://localhost:8080/",
          "height": 35
        }
      },
      "source": [
        "y_train[:10]"
      ],
      "execution_count": 0,
      "outputs": [
        {
          "output_type": "execute_result",
          "data": {
            "text/plain": [
              "array([5, 0, 4, 1, 9, 2, 1, 3, 1, 4], dtype=uint8)"
            ]
          },
          "metadata": {
            "tags": []
          },
          "execution_count": 84
        }
      ]
    },
    {
      "cell_type": "code",
      "metadata": {
        "id": "ZG8JiXR39FHC",
        "colab_type": "code",
        "colab": {}
      },
      "source": [
        "# Convert 1-dimensional class arrays to 10-dimensional class matrices\n",
        "Y_train = np_utils.to_categorical(y_train, 10)\n",
        "Y_test = np_utils.to_categorical(y_test, 10)"
      ],
      "execution_count": 0,
      "outputs": []
    },
    {
      "cell_type": "code",
      "metadata": {
        "id": "fYlFRvKS9HMB",
        "colab_type": "code",
        "outputId": "89a98908-0b13-495c-b9cf-7fd1c9473553",
        "colab": {
          "base_uri": "https://localhost:8080/",
          "height": 197
        }
      },
      "source": [
        "Y_train[:10]\n"
      ],
      "execution_count": 0,
      "outputs": [
        {
          "output_type": "execute_result",
          "data": {
            "text/plain": [
              "array([[0., 0., 0., 0., 0., 1., 0., 0., 0., 0.],\n",
              "       [1., 0., 0., 0., 0., 0., 0., 0., 0., 0.],\n",
              "       [0., 0., 0., 0., 1., 0., 0., 0., 0., 0.],\n",
              "       [0., 1., 0., 0., 0., 0., 0., 0., 0., 0.],\n",
              "       [0., 0., 0., 0., 0., 0., 0., 0., 0., 1.],\n",
              "       [0., 0., 1., 0., 0., 0., 0., 0., 0., 0.],\n",
              "       [0., 1., 0., 0., 0., 0., 0., 0., 0., 0.],\n",
              "       [0., 0., 0., 1., 0., 0., 0., 0., 0., 0.],\n",
              "       [0., 1., 0., 0., 0., 0., 0., 0., 0., 0.],\n",
              "       [0., 0., 0., 0., 1., 0., 0., 0., 0., 0.]], dtype=float32)"
            ]
          },
          "metadata": {
            "tags": []
          },
          "execution_count": 86
        }
      ]
    },
    {
      "cell_type": "code",
      "metadata": {
        "id": "osKqT73Q9JJB",
        "colab_type": "code",
        "outputId": "0b0d1ccc-1a37-48de-a35c-7c9a83373c67",
        "colab": {
          "base_uri": "https://localhost:8080/",
          "height": 109
        }
      },
      "source": [
        "from keras.layers import Activation\n",
        "model = Sequential()\n",
        "\n",
        " \n",
        "model = Sequential()\n",
        " \n",
        "model.add(Convolution2D(32, 3, 3, activation='relu', input_shape=(28,28,1)))\n",
        "model.add(Convolution2D(32, 3, 3, activation='relu'))\n",
        "model.add(MaxPooling2D(pool_size=(2,2)))\n",
        "model.add(Dropout(0.25))\n",
        " \n",
        "model.add(Flatten())\n",
        "model.add(Dense(128, activation='relu'))\n",
        "model.add(Dropout(0.5))\n",
        "model.add(Dense(10, activation='softmax'))"
      ],
      "execution_count": 0,
      "outputs": [
        {
          "output_type": "stream",
          "text": [
            "/usr/local/lib/python3.6/dist-packages/ipykernel_launcher.py:7: UserWarning: Update your `Conv2D` call to the Keras 2 API: `Conv2D(32, (3, 3), activation=\"relu\", input_shape=(28, 28, 1...)`\n",
            "  import sys\n",
            "/usr/local/lib/python3.6/dist-packages/ipykernel_launcher.py:8: UserWarning: Update your `Conv2D` call to the Keras 2 API: `Conv2D(32, (3, 3), activation=\"relu\")`\n",
            "  \n"
          ],
          "name": "stderr"
        }
      ]
    },
    {
      "cell_type": "code",
      "metadata": {
        "id": "TzdAYg1k9K7Z",
        "colab_type": "code",
        "outputId": "657c9e6c-bcd2-4abe-c5be-26754c942c7d",
        "colab": {
          "base_uri": "https://localhost:8080/",
          "height": 449
        }
      },
      "source": [
        "model.summary()"
      ],
      "execution_count": 0,
      "outputs": [
        {
          "output_type": "stream",
          "text": [
            "Model: \"sequential_12\"\n",
            "_________________________________________________________________\n",
            "Layer (type)                 Output Shape              Param #   \n",
            "=================================================================\n",
            "conv2d_20 (Conv2D)           (None, 26, 26, 32)        320       \n",
            "_________________________________________________________________\n",
            "conv2d_21 (Conv2D)           (None, 24, 24, 32)        9248      \n",
            "_________________________________________________________________\n",
            "max_pooling2d_2 (MaxPooling2 (None, 12, 12, 32)        0         \n",
            "_________________________________________________________________\n",
            "dropout_3 (Dropout)          (None, 12, 12, 32)        0         \n",
            "_________________________________________________________________\n",
            "flatten_7 (Flatten)          (None, 4608)              0         \n",
            "_________________________________________________________________\n",
            "dense_3 (Dense)              (None, 128)               589952    \n",
            "_________________________________________________________________\n",
            "dropout_4 (Dropout)          (None, 128)               0         \n",
            "_________________________________________________________________\n",
            "dense_4 (Dense)              (None, 10)                1290      \n",
            "=================================================================\n",
            "Total params: 600,810\n",
            "Trainable params: 600,810\n",
            "Non-trainable params: 0\n",
            "_________________________________________________________________\n"
          ],
          "name": "stdout"
        }
      ]
    },
    {
      "cell_type": "code",
      "metadata": {
        "id": "Zp6SuGrL9M3h",
        "colab_type": "code",
        "colab": {}
      },
      "source": [
        "model.compile(loss='categorical_crossentropy',\n",
        "             optimizer='adam',\n",
        "             metrics=['accuracy'])"
      ],
      "execution_count": 0,
      "outputs": []
    },
    {
      "cell_type": "code",
      "metadata": {
        "id": "4xWoKhPY9Of5",
        "colab_type": "code",
        "outputId": "9a6ae549-14f2-41aa-9b4a-78e8c9a9520a",
        "colab": {
          "base_uri": "https://localhost:8080/",
          "height": 1000
        }
      },
      "source": [
        "model.fit(X_train, Y_train, batch_size=128, nb_epoch=50, verbose=1)"
      ],
      "execution_count": 0,
      "outputs": [
        {
          "output_type": "stream",
          "text": [
            "/usr/local/lib/python3.6/dist-packages/ipykernel_launcher.py:1: UserWarning: The `nb_epoch` argument in `fit` has been renamed `epochs`.\n",
            "  \"\"\"Entry point for launching an IPython kernel.\n"
          ],
          "name": "stderr"
        },
        {
          "output_type": "stream",
          "text": [
            "Epoch 1/50\n",
            "60000/60000 [==============================] - 3s 58us/step - loss: 0.2700 - acc: 0.9181\n",
            "Epoch 2/50\n",
            "60000/60000 [==============================] - 3s 48us/step - loss: 0.1000 - acc: 0.9705\n",
            "Epoch 3/50\n",
            "60000/60000 [==============================] - 3s 47us/step - loss: 0.0737 - acc: 0.9781\n",
            "Epoch 4/50\n",
            "60000/60000 [==============================] - 3s 48us/step - loss: 0.0613 - acc: 0.9815\n",
            "Epoch 5/50\n",
            "60000/60000 [==============================] - 3s 48us/step - loss: 0.0527 - acc: 0.9841\n",
            "Epoch 6/50\n",
            "60000/60000 [==============================] - 3s 49us/step - loss: 0.0450 - acc: 0.9865\n",
            "Epoch 7/50\n",
            "60000/60000 [==============================] - 3s 48us/step - loss: 0.0420 - acc: 0.9873\n",
            "Epoch 8/50\n",
            "60000/60000 [==============================] - 3s 48us/step - loss: 0.0390 - acc: 0.9875\n",
            "Epoch 9/50\n",
            "60000/60000 [==============================] - 3s 48us/step - loss: 0.0347 - acc: 0.9890\n",
            "Epoch 10/50\n",
            "60000/60000 [==============================] - 3s 47us/step - loss: 0.0332 - acc: 0.9897\n",
            "Epoch 11/50\n",
            "60000/60000 [==============================] - 3s 48us/step - loss: 0.0298 - acc: 0.9907\n",
            "Epoch 12/50\n",
            "60000/60000 [==============================] - 3s 47us/step - loss: 0.0272 - acc: 0.9910\n",
            "Epoch 13/50\n",
            "60000/60000 [==============================] - 3s 48us/step - loss: 0.0252 - acc: 0.9916\n",
            "Epoch 14/50\n",
            "60000/60000 [==============================] - 3s 46us/step - loss: 0.0238 - acc: 0.9924\n",
            "Epoch 15/50\n",
            "60000/60000 [==============================] - 3s 48us/step - loss: 0.0233 - acc: 0.9922\n",
            "Epoch 16/50\n",
            "60000/60000 [==============================] - 3s 48us/step - loss: 0.0223 - acc: 0.9927\n",
            "Epoch 17/50\n",
            "60000/60000 [==============================] - 3s 48us/step - loss: 0.0211 - acc: 0.9927\n",
            "Epoch 18/50\n",
            "60000/60000 [==============================] - 3s 48us/step - loss: 0.0200 - acc: 0.9933\n",
            "Epoch 19/50\n",
            "60000/60000 [==============================] - 3s 47us/step - loss: 0.0195 - acc: 0.9931\n",
            "Epoch 20/50\n",
            "60000/60000 [==============================] - 3s 47us/step - loss: 0.0182 - acc: 0.9942\n",
            "Epoch 21/50\n",
            "60000/60000 [==============================] - 3s 48us/step - loss: 0.0185 - acc: 0.9935\n",
            "Epoch 22/50\n",
            "60000/60000 [==============================] - 3s 47us/step - loss: 0.0170 - acc: 0.9940\n",
            "Epoch 23/50\n",
            "60000/60000 [==============================] - 3s 47us/step - loss: 0.0150 - acc: 0.9954\n",
            "Epoch 24/50\n",
            "60000/60000 [==============================] - 3s 48us/step - loss: 0.0160 - acc: 0.9944\n",
            "Epoch 25/50\n",
            "60000/60000 [==============================] - 3s 47us/step - loss: 0.0154 - acc: 0.9949\n",
            "Epoch 26/50\n",
            "60000/60000 [==============================] - 3s 47us/step - loss: 0.0150 - acc: 0.9949\n",
            "Epoch 27/50\n",
            "60000/60000 [==============================] - 3s 47us/step - loss: 0.0143 - acc: 0.9954\n",
            "Epoch 28/50\n",
            "60000/60000 [==============================] - 3s 48us/step - loss: 0.0146 - acc: 0.9950\n",
            "Epoch 29/50\n",
            "60000/60000 [==============================] - 3s 47us/step - loss: 0.0136 - acc: 0.9954\n",
            "Epoch 30/50\n",
            "60000/60000 [==============================] - 3s 48us/step - loss: 0.0131 - acc: 0.9953\n",
            "Epoch 31/50\n",
            "60000/60000 [==============================] - 3s 49us/step - loss: 0.0137 - acc: 0.9954\n",
            "Epoch 32/50\n",
            "60000/60000 [==============================] - 3s 49us/step - loss: 0.0124 - acc: 0.9963\n",
            "Epoch 33/50\n",
            "60000/60000 [==============================] - 3s 49us/step - loss: 0.0116 - acc: 0.9963\n",
            "Epoch 34/50\n",
            "60000/60000 [==============================] - 3s 48us/step - loss: 0.0126 - acc: 0.9955\n",
            "Epoch 35/50\n",
            "60000/60000 [==============================] - 3s 47us/step - loss: 0.0114 - acc: 0.9963\n",
            "Epoch 36/50\n",
            "60000/60000 [==============================] - 3s 46us/step - loss: 0.0119 - acc: 0.9963\n",
            "Epoch 37/50\n",
            "60000/60000 [==============================] - 3s 47us/step - loss: 0.0111 - acc: 0.9962\n",
            "Epoch 38/50\n",
            "60000/60000 [==============================] - 3s 47us/step - loss: 0.0122 - acc: 0.9957\n",
            "Epoch 39/50\n",
            "60000/60000 [==============================] - 3s 47us/step - loss: 0.0108 - acc: 0.9964\n",
            "Epoch 40/50\n",
            "60000/60000 [==============================] - 3s 47us/step - loss: 0.0106 - acc: 0.9962\n",
            "Epoch 41/50\n",
            "60000/60000 [==============================] - 3s 48us/step - loss: 0.0100 - acc: 0.9967\n",
            "Epoch 42/50\n",
            "60000/60000 [==============================] - 3s 48us/step - loss: 0.0101 - acc: 0.9969\n",
            "Epoch 43/50\n",
            "60000/60000 [==============================] - 3s 46us/step - loss: 0.0111 - acc: 0.9961\n",
            "Epoch 44/50\n",
            "60000/60000 [==============================] - 3s 46us/step - loss: 0.0095 - acc: 0.9964\n",
            "Epoch 45/50\n",
            "60000/60000 [==============================] - 3s 46us/step - loss: 0.0092 - acc: 0.9972\n",
            "Epoch 46/50\n",
            "60000/60000 [==============================] - 3s 46us/step - loss: 0.0099 - acc: 0.9968\n",
            "Epoch 47/50\n",
            "60000/60000 [==============================] - 3s 48us/step - loss: 0.0104 - acc: 0.9964\n",
            "Epoch 48/50\n",
            "60000/60000 [==============================] - 3s 47us/step - loss: 0.0099 - acc: 0.9966\n",
            "Epoch 49/50\n",
            "60000/60000 [==============================] - 3s 47us/step - loss: 0.0087 - acc: 0.9971\n",
            "Epoch 50/50\n",
            "60000/60000 [==============================] - 3s 46us/step - loss: 0.0091 - acc: 0.9969\n"
          ],
          "name": "stdout"
        },
        {
          "output_type": "execute_result",
          "data": {
            "text/plain": [
              "<keras.callbacks.History at 0x7f43f6878198>"
            ]
          },
          "metadata": {
            "tags": []
          },
          "execution_count": 90
        }
      ]
    },
    {
      "cell_type": "code",
      "metadata": {
        "id": "AtsH-lLk-eLb",
        "colab_type": "code",
        "colab": {}
      },
      "source": [
        "score = model.evaluate(X_test, Y_test, verbose=0)"
      ],
      "execution_count": 0,
      "outputs": []
    },
    {
      "cell_type": "code",
      "metadata": {
        "id": "mkX8JMv79q9r",
        "colab_type": "code",
        "outputId": "4e7b312e-bf51-421f-f53b-8c6d2dd47392",
        "colab": {
          "base_uri": "https://localhost:8080/",
          "height": 35
        }
      },
      "source": [
        "print(score)"
      ],
      "execution_count": 0,
      "outputs": [
        {
          "output_type": "stream",
          "text": [
            "[0.03533869992421671, 0.9931]\n"
          ],
          "name": "stdout"
        }
      ]
    },
    {
      "cell_type": "code",
      "metadata": {
        "id": "OCWoJkwE9suh",
        "colab_type": "code",
        "colab": {}
      },
      "source": [
        "y_pred = model.predict(X_test)"
      ],
      "execution_count": 0,
      "outputs": []
    },
    {
      "cell_type": "code",
      "metadata": {
        "id": "Ym7iCFBm9uBs",
        "colab_type": "code",
        "outputId": "6fc46408-bcf6-41b6-f21c-f4f9188f6c46",
        "colab": {
          "base_uri": "https://localhost:8080/",
          "height": 359
        }
      },
      "source": [
        "print(y_pred[:9])\n",
        "print(y_test[:9])"
      ],
      "execution_count": 0,
      "outputs": [
        {
          "output_type": "stream",
          "text": [
            "[[9.5115316e-25 3.5765349e-16 7.6425035e-16 8.3253149e-15 2.0283036e-21\n",
            "  1.8682829e-21 2.4311821e-31 1.0000000e+00 7.2713425e-21 1.9739169e-14]\n",
            " [1.9702747e-15 2.0919004e-12 1.0000000e+00 5.5994777e-19 5.3853703e-21\n",
            "  2.7218643e-28 2.4915921e-15 2.1355179e-22 2.3987251e-18 2.7786961e-27]\n",
            " [4.0277885e-18 1.0000000e+00 1.2981946e-12 9.8260392e-19 5.1184989e-13\n",
            "  3.2060724e-15 1.4762913e-13 6.1394694e-13 1.8975284e-12 1.0467325e-15]\n",
            " [1.0000000e+00 3.9108906e-16 1.3478922e-15 1.0027957e-16 2.9434098e-19\n",
            "  1.3946498e-19 1.0807197e-11 1.1283340e-16 3.6584319e-16 1.1461969e-12]\n",
            " [7.7887860e-22 1.3965604e-20 6.1265883e-21 4.0236524e-28 1.0000000e+00\n",
            "  2.3195788e-21 1.1550051e-21 1.4264368e-21 1.3793649e-18 1.2910971e-09]\n",
            " [8.8788481e-19 1.0000000e+00 1.0373756e-14 2.1866985e-18 1.4987368e-12\n",
            "  1.0363506e-15 1.2938796e-14 7.7869280e-11 3.3002177e-12 8.5405138e-15]\n",
            " [6.7572134e-25 6.0763726e-13 2.4143974e-20 3.9367693e-20 9.9998641e-01\n",
            "  5.7217708e-10 2.1767059e-19 2.2657788e-15 1.3240068e-05 3.6638812e-07]\n",
            " [8.6398431e-28 4.9042961e-21 5.0286316e-20 9.8853142e-22 1.9818176e-13\n",
            "  1.4794481e-17 5.1177587e-31 7.4289822e-25 2.2466714e-12 1.0000000e+00]\n",
            " [1.2932115e-14 4.6683485e-13 5.2200954e-19 1.3806267e-14 8.2221366e-13\n",
            "  9.6873647e-01 3.1245230e-02 1.3865746e-18 1.8266950e-05 2.4855843e-11]]\n",
            "[7 2 1 0 4 1 4 9 5]\n"
          ],
          "name": "stdout"
        }
      ]
    },
    {
      "cell_type": "code",
      "metadata": {
        "id": "CT--y98_dr2T",
        "colab_type": "code",
        "colab": {}
      },
      "source": [
        "layer_dict = dict([(layer.name, layer) for layer in model.layers])"
      ],
      "execution_count": 0,
      "outputs": []
    },
    {
      "cell_type": "code",
      "metadata": {
        "id": "2GY4Upv4dsUR",
        "colab_type": "code",
        "outputId": "a093479c-a5db-43ca-8f26-52708672ef07",
        "colab": {
          "base_uri": "https://localhost:8080/",
          "height": 334
        }
      },
      "source": [
        "import numpy as np\n",
        "from matplotlib import pyplot as plt\n",
        "from keras import backend as K\n",
        "%matplotlib inline\n",
        "# util function to convert a tensor into a valid image\n",
        "def deprocess_image(x):\n",
        "    # normalize tensor: center on 0., ensure std is 0.1\n",
        "    x -= x.mean()\n",
        "    x /= (x.std() + 1e-5)\n",
        "    x *= 0.1\n",
        "\n",
        "    # clip to [0, 1]\n",
        "    x += 0.5\n",
        "    x = np.clip(x, 0, 1)\n",
        "\n",
        "    # convert to RGB array\n",
        "    x *= 255\n",
        "    #x = x.transpose((1, 2, 0))\n",
        "    x = np.clip(x, 0, 255).astype('uint8')\n",
        "    return x\n",
        "\n",
        "def vis_img_in_filter(img = np.array(X_train[2]).reshape((1, 28, 28, 1)).astype(np.float64), \n",
        "                      layer_name = 'conv2d_14'):\n",
        "    layer_output = layer_dict[layer_name].output\n",
        "    img_ascs = list()\n",
        "    for filter_index in range(layer_output.shape[3]):\n",
        "        # build a loss function that maximizes the activation\n",
        "        # of the nth filter of the layer considered\n",
        "        loss = K.mean(layer_output[:, :, :, filter_index])\n",
        "\n",
        "        # compute the gradient of the input picture wrt this loss\n",
        "        grads = K.gradients(loss, model.input)[0]\n",
        "\n",
        "        # normalization trick: we normalize the gradient\n",
        "        grads /= (K.sqrt(K.mean(K.square(grads))) + 1e-5)\n",
        "\n",
        "        # this function returns the loss and grads given the input picture\n",
        "        iterate = K.function([model.input], [loss, grads])\n",
        "\n",
        "        # step size for gradient ascent\n",
        "        step = 5.\n",
        "\n",
        "        img_asc = np.array(img)\n",
        "        # run gradient ascent for 20 steps\n",
        "        for i in range(20):\n",
        "            loss_value, grads_value = iterate([img_asc])\n",
        "            img_asc += grads_value * step\n",
        "\n",
        "        img_asc = img_asc[0]\n",
        "        img_ascs.append(deprocess_image(img_asc).reshape((28, 28)))\n",
        "        \n",
        "    if layer_output.shape[3] >= 35:\n",
        "        plot_x, plot_y = 6, 6\n",
        "    elif layer_output.shape[3] >= 23:\n",
        "        plot_x, plot_y = 4, 6\n",
        "    elif layer_output.shape[3] >= 11:\n",
        "        plot_x, plot_y = 2, 6\n",
        "    else:\n",
        "        plot_x, plot_y = 1, 2\n",
        "    fig, ax = plt.subplots(plot_x, plot_y, figsize = (12, 12))\n",
        "    ax[0, 0].imshow(img.reshape((28, 28)), cmap = 'gray')\n",
        "    ax[0, 0].set_title('Input image')\n",
        "    fig.suptitle('Input image and %s filters' % (layer_name,))\n",
        "    fig.tight_layout(pad = 0.3, rect = [0, 0, 0.9, 0.9])\n",
        "    for (x, y) in [(i, j) for i in range(plot_x) for j in range(plot_y)]:\n",
        "        if x == 0 and y == 0:\n",
        "            continue\n",
        "        ax[x, y].imshow(img_ascs[x * plot_y + y - 1], cmap = 'gray')\n",
        "        ax[x, y].set_title('filter %d' % (x * plot_y + y - 1))\n",
        "\n",
        "vis_img_in_filter()"
      ],
      "execution_count": 0,
      "outputs": [
        {
          "output_type": "error",
          "ename": "KeyError",
          "evalue": "ignored",
          "traceback": [
            "\u001b[0;31m---------------------------------------------------------------------------\u001b[0m",
            "\u001b[0;31mKeyError\u001b[0m                                  Traceback (most recent call last)",
            "\u001b[0;32m<ipython-input-97-19229f66b51a>\u001b[0m in \u001b[0;36m<module>\u001b[0;34m()\u001b[0m\n\u001b[1;32m     69\u001b[0m         \u001b[0max\u001b[0m\u001b[0;34m[\u001b[0m\u001b[0mx\u001b[0m\u001b[0;34m,\u001b[0m \u001b[0my\u001b[0m\u001b[0;34m]\u001b[0m\u001b[0;34m.\u001b[0m\u001b[0mset_title\u001b[0m\u001b[0;34m(\u001b[0m\u001b[0;34m'filter %d'\u001b[0m \u001b[0;34m%\u001b[0m \u001b[0;34m(\u001b[0m\u001b[0mx\u001b[0m \u001b[0;34m*\u001b[0m \u001b[0mplot_y\u001b[0m \u001b[0;34m+\u001b[0m \u001b[0my\u001b[0m \u001b[0;34m-\u001b[0m \u001b[0;36m1\u001b[0m\u001b[0;34m)\u001b[0m\u001b[0;34m)\u001b[0m\u001b[0;34m\u001b[0m\u001b[0;34m\u001b[0m\u001b[0m\n\u001b[1;32m     70\u001b[0m \u001b[0;34m\u001b[0m\u001b[0m\n\u001b[0;32m---> 71\u001b[0;31m \u001b[0mvis_img_in_filter\u001b[0m\u001b[0;34m(\u001b[0m\u001b[0;34m)\u001b[0m\u001b[0;34m\u001b[0m\u001b[0;34m\u001b[0m\u001b[0m\n\u001b[0m",
            "\u001b[0;32m<ipython-input-97-19229f66b51a>\u001b[0m in \u001b[0;36mvis_img_in_filter\u001b[0;34m(img, layer_name)\u001b[0m\n\u001b[1;32m     22\u001b[0m def vis_img_in_filter(img = np.array(X_train[2]).reshape((1, 28, 28, 1)).astype(np.float64), \n\u001b[1;32m     23\u001b[0m                       layer_name = 'conv2d_14'):\n\u001b[0;32m---> 24\u001b[0;31m     \u001b[0mlayer_output\u001b[0m \u001b[0;34m=\u001b[0m \u001b[0mlayer_dict\u001b[0m\u001b[0;34m[\u001b[0m\u001b[0mlayer_name\u001b[0m\u001b[0;34m]\u001b[0m\u001b[0;34m.\u001b[0m\u001b[0moutput\u001b[0m\u001b[0;34m\u001b[0m\u001b[0;34m\u001b[0m\u001b[0m\n\u001b[0m\u001b[1;32m     25\u001b[0m     \u001b[0mimg_ascs\u001b[0m \u001b[0;34m=\u001b[0m \u001b[0mlist\u001b[0m\u001b[0;34m(\u001b[0m\u001b[0;34m)\u001b[0m\u001b[0;34m\u001b[0m\u001b[0;34m\u001b[0m\u001b[0m\n\u001b[1;32m     26\u001b[0m     \u001b[0;32mfor\u001b[0m \u001b[0mfilter_index\u001b[0m \u001b[0;32min\u001b[0m \u001b[0mrange\u001b[0m\u001b[0;34m(\u001b[0m\u001b[0mlayer_output\u001b[0m\u001b[0;34m.\u001b[0m\u001b[0mshape\u001b[0m\u001b[0;34m[\u001b[0m\u001b[0;36m3\u001b[0m\u001b[0;34m]\u001b[0m\u001b[0;34m)\u001b[0m\u001b[0;34m:\u001b[0m\u001b[0;34m\u001b[0m\u001b[0;34m\u001b[0m\u001b[0m\n",
            "\u001b[0;31mKeyError\u001b[0m: 'conv2d_14'"
          ]
        }
      ]
    },
    {
      "cell_type": "code",
      "metadata": {
        "id": "9tvptcn8dxvp",
        "colab_type": "code",
        "colab": {}
      },
      "source": [
        ""
      ],
      "execution_count": 0,
      "outputs": []
    }
  ]
}